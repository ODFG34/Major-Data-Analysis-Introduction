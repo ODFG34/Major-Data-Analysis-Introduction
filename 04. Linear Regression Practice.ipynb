{
 "cells": [
  {
   "cell_type": "markdown",
   "metadata": {},
   "source": [
    "# Linear Regression Model\n",
    "## 1. Data Generating\n",
    "## 2. Model fit & options practice => Example Model Fit\n",
    "## 3. The best  $R^{2}$  score & Combinations of all combinations"
   ]
  },
  {
   "cell_type": "code",
   "execution_count": 1,
   "metadata": {},
   "outputs": [],
   "source": [
    "import pandas as pd\n",
    "input_data = pd.read_csv(\"input.csv\", names=[\"x1\"]) #데이터\n",
    "output_data = pd.read_csv(\"output.csv\", names=[\"total\"]) #데이터"
   ]
  },
  {
   "cell_type": "markdown",
   "metadata": {},
   "source": [
    "## 1. Data Generating"
   ]
  },
  {
   "cell_type": "code",
   "execution_count": 2,
   "metadata": {},
   "outputs": [
    {
     "data": {
      "text/html": [
       "<div>\n",
       "<style scoped>\n",
       "    .dataframe tbody tr th:only-of-type {\n",
       "        vertical-align: middle;\n",
       "    }\n",
       "\n",
       "    .dataframe tbody tr th {\n",
       "        vertical-align: top;\n",
       "    }\n",
       "\n",
       "    .dataframe thead th {\n",
       "        text-align: right;\n",
       "    }\n",
       "</style>\n",
       "<table border=\"1\" class=\"dataframe\">\n",
       "  <thead>\n",
       "    <tr style=\"text-align: right;\">\n",
       "      <th></th>\n",
       "      <th>x1</th>\n",
       "      <th>x2</th>\n",
       "      <th>x3</th>\n",
       "      <th>x4</th>\n",
       "      <th>x5</th>\n",
       "    </tr>\n",
       "  </thead>\n",
       "  <tbody>\n",
       "    <tr>\n",
       "      <th>0</th>\n",
       "      <td>-7.000000</td>\n",
       "      <td>49.000000</td>\n",
       "      <td>-343.000000</td>\n",
       "      <td>2401.000000</td>\n",
       "      <td>-16807.000000</td>\n",
       "    </tr>\n",
       "    <tr>\n",
       "      <th>1</th>\n",
       "      <td>-6.929648</td>\n",
       "      <td>48.020021</td>\n",
       "      <td>-332.761845</td>\n",
       "      <td>2305.922456</td>\n",
       "      <td>-15979.230933</td>\n",
       "    </tr>\n",
       "    <tr>\n",
       "      <th>2</th>\n",
       "      <td>-6.859296</td>\n",
       "      <td>47.049942</td>\n",
       "      <td>-322.729476</td>\n",
       "      <td>2213.697006</td>\n",
       "      <td>-15184.403019</td>\n",
       "    </tr>\n",
       "    <tr>\n",
       "      <th>3</th>\n",
       "      <td>-6.788945</td>\n",
       "      <td>46.089774</td>\n",
       "      <td>-312.900942</td>\n",
       "      <td>2124.267287</td>\n",
       "      <td>-14421.533777</td>\n",
       "    </tr>\n",
       "    <tr>\n",
       "      <th>4</th>\n",
       "      <td>-6.718593</td>\n",
       "      <td>45.139492</td>\n",
       "      <td>-303.273874</td>\n",
       "      <td>2037.573729</td>\n",
       "      <td>-13689.628592</td>\n",
       "    </tr>\n",
       "    <tr>\n",
       "      <th>...</th>\n",
       "      <td>...</td>\n",
       "      <td>...</td>\n",
       "      <td>...</td>\n",
       "      <td>...</td>\n",
       "      <td>...</td>\n",
       "    </tr>\n",
       "    <tr>\n",
       "      <th>195</th>\n",
       "      <td>6.718593</td>\n",
       "      <td>45.139492</td>\n",
       "      <td>303.273874</td>\n",
       "      <td>2037.573729</td>\n",
       "      <td>13689.628592</td>\n",
       "    </tr>\n",
       "    <tr>\n",
       "      <th>196</th>\n",
       "      <td>6.788945</td>\n",
       "      <td>46.089774</td>\n",
       "      <td>312.900942</td>\n",
       "      <td>2124.267287</td>\n",
       "      <td>14421.533777</td>\n",
       "    </tr>\n",
       "    <tr>\n",
       "      <th>197</th>\n",
       "      <td>6.859296</td>\n",
       "      <td>47.049942</td>\n",
       "      <td>322.729476</td>\n",
       "      <td>2213.697006</td>\n",
       "      <td>15184.403019</td>\n",
       "    </tr>\n",
       "    <tr>\n",
       "      <th>198</th>\n",
       "      <td>6.929648</td>\n",
       "      <td>48.020021</td>\n",
       "      <td>332.761845</td>\n",
       "      <td>2305.922456</td>\n",
       "      <td>15979.230933</td>\n",
       "    </tr>\n",
       "    <tr>\n",
       "      <th>199</th>\n",
       "      <td>7.000000</td>\n",
       "      <td>49.000000</td>\n",
       "      <td>343.000000</td>\n",
       "      <td>2401.000000</td>\n",
       "      <td>16807.000000</td>\n",
       "    </tr>\n",
       "  </tbody>\n",
       "</table>\n",
       "<p>200 rows × 5 columns</p>\n",
       "</div>"
      ],
      "text/plain": [
       "           x1         x2          x3           x4            x5\n",
       "0   -7.000000  49.000000 -343.000000  2401.000000 -16807.000000\n",
       "1   -6.929648  48.020021 -332.761845  2305.922456 -15979.230933\n",
       "2   -6.859296  47.049942 -322.729476  2213.697006 -15184.403019\n",
       "3   -6.788945  46.089774 -312.900942  2124.267287 -14421.533777\n",
       "4   -6.718593  45.139492 -303.273874  2037.573729 -13689.628592\n",
       "..        ...        ...         ...          ...           ...\n",
       "195  6.718593  45.139492  303.273874  2037.573729  13689.628592\n",
       "196  6.788945  46.089774  312.900942  2124.267287  14421.533777\n",
       "197  6.859296  47.049942  322.729476  2213.697006  15184.403019\n",
       "198  6.929648  48.020021  332.761845  2305.922456  15979.230933\n",
       "199  7.000000  49.000000  343.000000  2401.000000  16807.000000\n",
       "\n",
       "[200 rows x 5 columns]"
      ]
     },
     "execution_count": 2,
     "metadata": {},
     "output_type": "execute_result"
    }
   ],
   "source": [
    "input_data[\"x2\"] = input_data[\"x1\"]**2 #데이터의 값처리\n",
    "input_data[\"x3\"] = input_data[\"x1\"]**3 #데이터의 값처리\n",
    "input_data[\"x4\"] = input_data[\"x1\"]**4 #데이터의 값처리\n",
    "input_data[\"x5\"] = input_data[\"x1\"]**5 #데이터의 값처리\n",
    "input_data "
   ]
  },
  {
   "cell_type": "markdown",
   "metadata": {},
   "source": [
    "## 2. Model fit & options practice => Example Model Fit"
   ]
  },
  {
   "cell_type": "code",
   "execution_count": 3,
   "metadata": {},
   "outputs": [],
   "source": [
    "from sklearn.linear_model import LinearRegression\n",
    "what_function = LinearRegression().fit(input_data, output_data['total'])"
   ]
  },
  {
   "cell_type": "markdown",
   "metadata": {},
   "source": [
    "### linear regression $ \\hat{\\beta_{1}}, \\hat{\\beta_{2}}, \\hat{\\beta_{3}}, \\hat{\\beta_{4}} $"
   ]
  },
  {
   "cell_type": "code",
   "execution_count": 4,
   "metadata": {},
   "outputs": [
    {
     "data": {
      "text/plain": [
       "array([-3.04541172, -0.03920626, -0.25169933,  0.01466606,  0.19800313])"
      ]
     },
     "execution_count": 4,
     "metadata": {},
     "output_type": "execute_result"
    }
   ],
   "source": [
    "what_function.coef_"
   ]
  },
  {
   "cell_type": "markdown",
   "metadata": {},
   "source": [
    "### linear regression $ \\hat{\\beta_{0}} $"
   ]
  },
  {
   "cell_type": "code",
   "execution_count": 5,
   "metadata": {
    "scrolled": true
   },
   "outputs": [
    {
     "data": {
      "text/plain": [
       "98.54994875854129"
      ]
     },
     "execution_count": 5,
     "metadata": {},
     "output_type": "execute_result"
    }
   ],
   "source": [
    "what_function.intercept_"
   ]
  },
  {
   "cell_type": "markdown",
   "metadata": {},
   "source": [
    "### Rank of matrix X. Only available when X is dense."
   ]
  },
  {
   "cell_type": "code",
   "execution_count": 6,
   "metadata": {},
   "outputs": [
    {
     "data": {
      "text/plain": [
       "5"
      ]
     },
     "execution_count": 6,
     "metadata": {},
     "output_type": "execute_result"
    }
   ],
   "source": [
    "what_function.rank_"
   ]
  },
  {
   "cell_type": "markdown",
   "metadata": {},
   "source": [
    "### Singular values of X. Only available when X is dense."
   ]
  },
  {
   "cell_type": "code",
   "execution_count": 7,
   "metadata": {},
   "outputs": [
    {
     "data": {
      "text/plain": [
       "array([7.34896905e+04, 9.23855152e+03, 4.14396713e+02, 5.95950551e+01,\n",
       "       1.30918254e+01])"
      ]
     },
     "execution_count": 7,
     "metadata": {},
     "output_type": "execute_result"
    }
   ],
   "source": [
    "what_function.singular_"
   ]
  },
  {
   "cell_type": "code",
   "execution_count": 8,
   "metadata": {},
   "outputs": [
    {
     "data": {
      "text/plain": [
       "array([-3.08834576e+03, -2.92859207e+03, -2.77526760e+03, -2.62817913e+03,\n",
       "       -2.48713118e+03, -2.35193857e+03, -2.22241785e+03, -2.09839116e+03,\n",
       "       -1.97967923e+03, -1.86611188e+03, -1.75752087e+03, -1.65374311e+03,\n",
       "       -1.55461475e+03, -1.45998003e+03, -1.36968525e+03, -1.28358146e+03,\n",
       "       -1.20151953e+03, -1.12335749e+03, -1.04895553e+03, -9.78178208e+02,\n",
       "       -9.10890388e+02, -8.46963283e+02, -7.86270315e+02, -7.28688913e+02,\n",
       "       -6.74097233e+02, -6.22379036e+02, -5.73420322e+02, -5.27110775e+02,\n",
       "       -4.83341122e+02, -4.42007047e+02, -4.03006471e+02, -3.66240197e+02,\n",
       "       -3.31612342e+02, -2.99028356e+02, -2.68397939e+02, -2.39632995e+02,\n",
       "       -2.12648474e+02, -1.87360821e+02, -1.63690235e+02, -1.41559069e+02,\n",
       "       -1.20892469e+02, -1.01617181e+02, -8.36632688e+01, -6.69628777e+01,\n",
       "       -5.14507127e+01, -3.70631307e+01, -2.37394217e+01, -1.14208696e+01,\n",
       "       -5.10961007e-02,  1.04246141e+01,  2.00583852e+01,  2.89004502e+01,\n",
       "        3.69989140e+01,  4.44002437e+01,  5.11486201e+01,  5.72864488e+01,\n",
       "        6.28542056e+01,  6.78907859e+01,  7.24330715e+01,  7.65162957e+01,\n",
       "        8.01740009e+01,  8.34380363e+01,  8.63387781e+01,  8.89048933e+01,\n",
       "        9.11635711e+01,  9.31404884e+01,  9.48599592e+01,  9.63448075e+01,\n",
       "        9.76165243e+01,  9.86952641e+01,  9.95999450e+01,  1.00348197e+02,\n",
       "        1.00956469e+02,  1.01440044e+02,  1.01813107e+02,  1.02088746e+02,\n",
       "        1.02279021e+02,  1.02394997e+02,  1.02446787e+02,  1.02443590e+02,\n",
       "        1.02393732e+02,  1.02304711e+02,  1.02183231e+02,  1.02035251e+02,\n",
       "        1.01866020e+02,  1.01680124e+02,  1.01481514e+02,  1.01273565e+02,\n",
       "        1.01059102e+02,  1.00840451e+02,  1.00619476e+02,  1.00397612e+02,\n",
       "        1.00175921e+02,  9.99551249e+01,  9.97356479e+01,  9.95176488e+01,\n",
       "        9.93010788e+01,  9.90857100e+01,  9.88711834e+01,  9.86570366e+01,\n",
       "        9.84427639e+01,  9.82278446e+01,  9.80117900e+01,  9.77941725e+01,\n",
       "        9.75746844e+01,  9.73531673e+01,  9.71296584e+01,  9.69044195e+01,\n",
       "        9.66779966e+01,  9.64512483e+01,  9.62253930e+01,  9.60020372e+01,\n",
       "        9.57832355e+01,  9.55715191e+01,  9.53699393e+01,  9.51821115e+01,\n",
       "        9.50122457e+01,  9.48652031e+01,  9.47465267e+01,  9.46624853e+01,\n",
       "        9.46201108e+01,  9.46272458e+01,  9.46925798e+01,  9.48256886e+01,\n",
       "        9.50370844e+01,  9.53382449e+01,  9.57416612e+01,  9.62608689e+01,\n",
       "        9.69105202e+01,  9.77063809e+01,  9.86653989e+01,  9.98057212e+01,\n",
       "        1.01146802e+02,  1.02709347e+02,  1.04515416e+02,  1.06588419e+02,\n",
       "        1.08953274e+02,  1.11636280e+02,  1.14665263e+02,  1.18069543e+02,\n",
       "        1.21880173e+02,  1.26129690e+02,  1.30852343e+02,  1.36084091e+02,\n",
       "        1.41862553e+02,  1.48227390e+02,  1.55219850e+02,  1.62883132e+02,\n",
       "        1.71262224e+02,  1.80404428e+02,  1.90358691e+02,  2.01176107e+02,\n",
       "        2.12909675e+02,  2.25615017e+02,  2.39349421e+02,  2.54172534e+02,\n",
       "        2.70146007e+02,  2.87334463e+02,  3.05804174e+02,  3.25623993e+02,\n",
       "        3.46864865e+02,  3.69601098e+02,  3.93908588e+02,  4.19866051e+02,\n",
       "        4.47554365e+02,  4.77058209e+02,  5.08463743e+02,  5.41860200e+02,\n",
       "        5.77339027e+02,  6.14995967e+02,  6.54928082e+02,  6.97235779e+02,\n",
       "        7.42022356e+02,  7.89393361e+02,  8.39459352e+02,  8.92331908e+02,\n",
       "        9.48126321e+02,  1.00696012e+03,  1.06895652e+03,  1.13423942e+03,\n",
       "        1.20293675e+03,  1.27517867e+03,  1.35110173e+03,  1.43084279e+03,\n",
       "        1.51454309e+03,  1.60234601e+03,  1.69440219e+03,  1.79086206e+03,\n",
       "        1.89188081e+03,  1.99761570e+03,  2.10823215e+03,  2.22389478e+03,\n",
       "        2.34477341e+03,  2.47103976e+03,  2.60287479e+03,  2.74045793e+03,\n",
       "        2.88397427e+03,  3.03361061e+03,  3.18956419e+03,  3.35202985e+03])"
      ]
     },
     "execution_count": 8,
     "metadata": {},
     "output_type": "execute_result"
    }
   ],
   "source": [
    "# prediction value\n",
    "what_function.predict(input_data)"
   ]
  },
  {
   "cell_type": "code",
   "execution_count": 9,
   "metadata": {},
   "outputs": [
    {
     "data": {
      "text/plain": [
       "0.9965754494978089"
      ]
     },
     "execution_count": 9,
     "metadata": {},
     "output_type": "execute_result"
    }
   ],
   "source": [
    "# score : Return the coefficient of determination \"R^2\" of the prediction.\n",
    "what_function.score(input_data, output_data['total'])"
   ]
  },
  {
   "cell_type": "markdown",
   "metadata": {},
   "source": [
    "----------------------------------------------------------------------------------------------------------"
   ]
  },
  {
   "cell_type": "code",
   "execution_count": 10,
   "metadata": {},
   "outputs": [
    {
     "data": {
      "text/plain": [
       "LinearRegression(copy_X=True, fit_intercept=True, n_jobs=None, normalize=False)"
      ]
     },
     "execution_count": 10,
     "metadata": {},
     "output_type": "execute_result"
    }
   ],
   "source": [
    "what_function2 = LinearRegression().fit(input_data[['x1','x2','x3', 'x4']], output_data['total'])\n",
    "what_function2"
   ]
  },
  {
   "cell_type": "markdown",
   "metadata": {},
   "source": [
    "### linear regression $ \\hat{\\beta_{1}}, \\hat{\\beta_{2}}, \\hat{\\beta_{3}}, \\hat{\\beta_{4}} $"
   ]
  },
  {
   "cell_type": "code",
   "execution_count": 11,
   "metadata": {},
   "outputs": [
    {
     "data": {
      "text/plain": [
       "array([-1.18485343e+02, -3.92062636e-02,  1.06351807e+01,  1.46660585e-02])"
      ]
     },
     "execution_count": 11,
     "metadata": {},
     "output_type": "execute_result"
    }
   ],
   "source": [
    "what_function2.coef_"
   ]
  },
  {
   "cell_type": "markdown",
   "metadata": {},
   "source": [
    "### linear regression $ \\hat{\\beta_{0}} $"
   ]
  },
  {
   "cell_type": "code",
   "execution_count": 12,
   "metadata": {
    "scrolled": true
   },
   "outputs": [
    {
     "data": {
      "text/plain": [
       "98.54994875854148"
      ]
     },
     "execution_count": 12,
     "metadata": {},
     "output_type": "execute_result"
    }
   ],
   "source": [
    "what_function2.intercept_"
   ]
  },
  {
   "cell_type": "markdown",
   "metadata": {},
   "source": [
    "### Rank of matrix X. Only available when X is dense."
   ]
  },
  {
   "cell_type": "code",
   "execution_count": 13,
   "metadata": {},
   "outputs": [
    {
     "data": {
      "text/plain": [
       "4"
      ]
     },
     "execution_count": 13,
     "metadata": {},
     "output_type": "execute_result"
    }
   ],
   "source": [
    "what_function2.rank_"
   ]
  },
  {
   "cell_type": "markdown",
   "metadata": {},
   "source": [
    "### Singular values of X. Only available when X is dense."
   ]
  },
  {
   "cell_type": "code",
   "execution_count": 14,
   "metadata": {},
   "outputs": [
    {
     "data": {
      "text/plain": [
       "array([9238.55152206, 1861.77235999,   59.59505514,   22.96530112])"
      ]
     },
     "execution_count": 14,
     "metadata": {},
     "output_type": "execute_result"
    }
   ],
   "source": [
    "what_function2.singular_"
   ]
  },
  {
   "cell_type": "code",
   "execution_count": 15,
   "metadata": {},
   "outputs": [
    {
     "data": {
      "text/plain": [
       "array([-2.68662751e+03, -2.58743456e+03, -2.49038874e+03, -2.39547000e+03,\n",
       "       -2.30265427e+03, -2.21192152e+03, -2.12325035e+03, -2.03662057e+03,\n",
       "       -1.95200830e+03, -1.86939336e+03, -1.78875431e+03, -1.71007082e+03,\n",
       "       -1.63331919e+03, -1.55847911e+03, -1.48552910e+03, -1.41444867e+03,\n",
       "       -1.34521434e+03, -1.27780561e+03, -1.21220100e+03, -1.14837987e+03,\n",
       "       -1.08631891e+03, -1.02599749e+03, -9.67394081e+02, -9.10487934e+02,\n",
       "       -8.55255874e+02, -8.01677160e+02, -7.49730218e+02, -6.99394172e+02,\n",
       "       -6.50646001e+02, -6.03464835e+02, -5.57829065e+02, -5.13717078e+02,\n",
       "       -4.71107843e+02, -4.29978517e+02, -3.90308076e+02, -3.52074868e+02,\n",
       "       -3.15257749e+02, -2.79834004e+02, -2.45782493e+02, -2.13081530e+02,\n",
       "       -1.81709858e+02, -1.51644885e+02, -1.22865355e+02, -9.53495492e+01,\n",
       "       -6.90761052e+01, -4.40225399e+01, -2.01674906e+01,  2.51079587e+00,\n",
       "        2.40337839e+01,  4.44238559e+01,  6.37024768e+01,  8.18914348e+01,\n",
       "        9.90122904e+01,  1.15087335e+02,  1.30138132e+02,  1.44186504e+02,\n",
       "        1.57254103e+02,  1.69363139e+02,  1.80535268e+02,  1.90792348e+02,\n",
       "        2.00156243e+02,  2.08648714e+02,  2.16291884e+02,  2.23107518e+02,\n",
       "        2.29117515e+02,  2.34343716e+02,  2.38808186e+02,  2.42532771e+02,\n",
       "        2.45539406e+02,  2.47850006e+02,  2.49486589e+02,  2.50471075e+02,\n",
       "        2.50825436e+02,  2.50571655e+02,  2.49731713e+02,  2.48327603e+02,\n",
       "        2.46381328e+02,  2.43914940e+02,  2.40950388e+02,  2.37509734e+02,\n",
       "        2.33615015e+02,  2.29288343e+02,  2.24551649e+02,  2.19427057e+02,\n",
       "        2.13936637e+02,  2.08102557e+02,  2.01946741e+02,  1.95491366e+02,\n",
       "        1.88758541e+02,  1.81770380e+02,  1.74549113e+02,  1.67116665e+02,\n",
       "        1.59495281e+02,  1.51707109e+02,  1.43774423e+02,  1.35719164e+02,\n",
       "        1.27563619e+02,  1.19329973e+02,  1.11040537e+02,  1.02717278e+02,\n",
       "        9.43825227e+01,  8.60584909e+01,  7.77675274e+01,  6.95316327e+01,\n",
       "        6.13731697e+01,  5.33143922e+01,  4.53776739e+01,  3.75850598e+01,\n",
       "        2.99589432e+01,  2.25216119e+01,  1.52954637e+01,  8.30259834e+00,\n",
       "        1.56543383e+00, -4.89370727e+00, -1.10524938e+01, -1.68885055e+01,\n",
       "       -2.23795601e+01, -2.75032153e+01, -3.22371055e+01, -3.65587980e+01,\n",
       "       -4.04460331e+01, -4.38763548e+01, -4.68273631e+01, -4.92766181e+01,\n",
       "       -5.12017723e+01, -5.25803613e+01, -5.33899504e+01, -5.36080977e+01,\n",
       "       -5.32123577e+01, -5.21802627e+01, -5.04893435e+01, -4.81171610e+01,\n",
       "       -4.50411618e+01, -4.12388797e+01, -3.66878112e+01, -3.13655252e+01,\n",
       "       -2.52493499e+01, -1.83168259e+01, -1.05454152e+01, -1.91270000e+00,\n",
       "        7.60412018e+00,  1.80274927e+01,  2.93799902e+01,  4.16841939e+01,\n",
       "        5.49624977e+01,  6.92378774e+01,  8.45327582e+01,  1.00869756e+02,\n",
       "        1.18271239e+02,  1.36760337e+02,  1.56359449e+02,  1.77091227e+02,\n",
       "        1.98978009e+02,  2.22043086e+02,  2.46308830e+02,  2.71797926e+02,\n",
       "        2.98532679e+02,  3.26536549e+02,  3.55831877e+02,  3.86441381e+02,\n",
       "        4.18387326e+02,  4.51693356e+02,  4.86381772e+02,  5.22475326e+02,\n",
       "        5.59996238e+02,  5.98968345e+02,  6.39413904e+02,  6.81355702e+02,\n",
       "        7.24815907e+02,  7.69818561e+02,  8.16385870e+02,  8.64540657e+02,\n",
       "        9.14305753e+02,  9.65703256e+02,  1.01875748e+03,  1.07349055e+03,\n",
       "        1.12992534e+03,  1.18808389e+03,  1.24799073e+03,  1.30966794e+03,\n",
       "        1.37313842e+03,  1.43842413e+03,  1.50554985e+03,  1.57453760e+03,\n",
       "        1.64541030e+03,  1.71818985e+03,  1.79290127e+03,  1.86956651e+03,\n",
       "        1.94820852e+03,  2.02884913e+03,  2.11151362e+03,  2.19622385e+03,\n",
       "        2.28300282e+03,  2.37187227e+03,  2.46285774e+03,  2.55598102e+03,\n",
       "        2.65126514e+03,  2.74873175e+03,  2.84840668e+03,  2.95031161e+03])"
      ]
     },
     "execution_count": 15,
     "metadata": {},
     "output_type": "execute_result"
    }
   ],
   "source": [
    "# prediction value\n",
    "what_function2.predict(input_data[['x1','x2','x3', 'x4']])"
   ]
  },
  {
   "cell_type": "code",
   "execution_count": 16,
   "metadata": {},
   "outputs": [
    {
     "data": {
      "text/plain": [
       "0.9791136537437577"
      ]
     },
     "execution_count": 16,
     "metadata": {},
     "output_type": "execute_result"
    }
   ],
   "source": [
    "# score : Return the coefficient of determination \"R^2\" of the prediction.\n",
    "what_function2.score(input_data[['x1','x2','x3', 'x4']], output_data['total'])"
   ]
  },
  {
   "cell_type": "markdown",
   "metadata": {},
   "source": [
    "---------------------------------------------------------------------------------------------------------"
   ]
  },
  {
   "cell_type": "code",
   "execution_count": 17,
   "metadata": {},
   "outputs": [
    {
     "data": {
      "text/plain": [
       "LinearRegression(copy_X=True, fit_intercept=True, n_jobs=None, normalize=False)"
      ]
     },
     "execution_count": 17,
     "metadata": {},
     "output_type": "execute_result"
    }
   ],
   "source": [
    "what_function3 = LinearRegression().fit(input_data[['x1','x2','x3']], output_data['total'])\n",
    "what_function3"
   ]
  },
  {
   "cell_type": "markdown",
   "metadata": {},
   "source": [
    "### linear regression $ \\hat{\\beta_{1}}, \\hat{\\beta_{2}}, \\hat{\\beta_{3}}, \\hat{\\beta_{4}} $"
   ]
  },
  {
   "cell_type": "code",
   "execution_count": 18,
   "metadata": {},
   "outputs": [
    {
     "data": {
      "text/plain": [
       "array([-118.48534349,    0.58290703,   10.63518066])"
      ]
     },
     "execution_count": 18,
     "metadata": {},
     "output_type": "execute_result"
    }
   ],
   "source": [
    "what_function3.coef_"
   ]
  },
  {
   "cell_type": "markdown",
   "metadata": {},
   "source": [
    "### linear regression $ \\hat{\\beta_{0}} $"
   ]
  },
  {
   "cell_type": "code",
   "execution_count": 19,
   "metadata": {
    "scrolled": true
   },
   "outputs": [
    {
     "data": {
      "text/plain": [
       "95.47131622965436"
      ]
     },
     "execution_count": 19,
     "metadata": {},
     "output_type": "execute_result"
    }
   ],
   "source": [
    "what_function3.intercept_"
   ]
  },
  {
   "cell_type": "markdown",
   "metadata": {},
   "source": [
    "### Rank of matrix X. Only available when X is dense."
   ]
  },
  {
   "cell_type": "code",
   "execution_count": 20,
   "metadata": {},
   "outputs": [
    {
     "data": {
      "text/plain": [
       "3"
      ]
     },
     "execution_count": 20,
     "metadata": {},
     "output_type": "execute_result"
    }
   ],
   "source": [
    "what_function3.rank_"
   ]
  },
  {
   "cell_type": "markdown",
   "metadata": {},
   "source": [
    "### Singular values of X. Only available when X is dense."
   ]
  },
  {
   "cell_type": "code",
   "execution_count": 21,
   "metadata": {},
   "outputs": [
    {
     "data": {
      "text/plain": [
       "array([1861.77235999,  208.67071489,   22.96530112])"
      ]
     },
     "execution_count": 21,
     "metadata": {},
     "output_type": "execute_result"
    }
   ],
   "source": [
    "what_function3.singular_"
   ]
  },
  {
   "cell_type": "code",
   "execution_count": 22,
   "metadata": {},
   "outputs": [
    {
     "data": {
      "text/plain": [
       "array([-2.69443580e+03, -2.59445809e+03, -2.49666319e+03, -2.40103020e+03,\n",
       "       -2.30753420e+03, -2.21615434e+03, -2.12686841e+03, -2.03965540e+03,\n",
       "       -1.95449063e+03, -1.87135312e+03, -1.79022066e+03, -1.71107213e+03,\n",
       "       -1.63388308e+03, -1.55863242e+03, -1.48529792e+03, -1.41385839e+03,\n",
       "       -1.34428955e+03, -1.27657023e+03, -1.21067821e+03, -1.14659216e+03,\n",
       "       -1.08428804e+03, -1.02374456e+03, -9.64939505e+02, -9.07851446e+02,\n",
       "       -8.52456544e+02, -7.98733405e+02, -7.46659809e+02, -6.96214244e+02,\n",
       "       -6.47373055e+02, -6.00114753e+02, -5.54417118e+02, -5.10257932e+02,\n",
       "       -4.67615571e+02, -4.26466603e+02, -3.86789427e+02, -3.48561824e+02,\n",
       "       -3.11762087e+02, -2.76366952e+02, -2.42354733e+02, -2.09703210e+02,\n",
       "       -1.78390601e+02, -1.48393796e+02, -1.19691031e+02, -9.22600863e+01,\n",
       "       -6.60791071e+01, -4.11251300e+01, -1.73763168e+01,  5.18955138e+00,\n",
       "        2.65943976e+01,  4.68610491e+01,  6.60114126e+01,  8.40677070e+01,\n",
       "        1.01051917e+02,  1.16986746e+02,  1.31894162e+02,  1.45796384e+02,\n",
       "        1.58715456e+02,  1.70673963e+02,  1.81693934e+02,  1.91797588e+02,\n",
       "        2.01007143e+02,  2.09344706e+02,  2.16832734e+02,  2.23493321e+02,\n",
       "        2.29348685e+02,  2.34420979e+02,  2.38732566e+02,  2.42305587e+02,\n",
       "        2.45162263e+02,  2.47324784e+02,  2.48815433e+02,  2.49656392e+02,\n",
       "        2.49869880e+02,  2.49478127e+02,  2.48503340e+02,  2.46967738e+02,\n",
       "        2.44893542e+02,  2.42303011e+02,  2.39218290e+02,  2.35661630e+02,\n",
       "        2.31655252e+02,  2.27221440e+02,  2.22382287e+02,  2.17160072e+02,\n",
       "        2.11577014e+02,  2.05655418e+02,  1.99417336e+02,  1.92885067e+02,\n",
       "        1.86080832e+02,  1.79026848e+02,  1.71745440e+02,  1.64258620e+02,\n",
       "        1.56588709e+02,  1.48757926e+02,  1.40788604e+02,  1.32702735e+02,\n",
       "        1.24522651e+02,  1.16270570e+02,  1.07968831e+02,  9.96394150e+01,\n",
       "        9.13046599e+01,  8.29867845e+01,  7.47081249e+01,  6.64906648e+01,\n",
       "        5.83567411e+01,  5.03285729e+01,  4.24284905e+01,  3.46784881e+01,\n",
       "        2.71008980e+01,  1.97179393e+01,  1.25519313e+01,  5.62488890e+00,\n",
       "       -1.04086527e+00, -7.42311218e+00, -1.34996328e+01, -1.92481288e+01,\n",
       "       -2.46465448e+01, -2.96725777e+01, -3.43040084e+01, -3.85185610e+01,\n",
       "       -4.22941366e+01, -4.56084532e+01, -4.84392917e+01, -5.07644037e+01,\n",
       "       -5.25616366e+01, -5.38087347e+01, -5.44834788e+01, -5.45636530e+01,\n",
       "       -5.40270410e+01, -5.28514182e+01, -5.10145656e+01, -4.84943050e+01,\n",
       "       -4.52683457e+01, -4.13144999e+01, -3.66105483e+01, -3.11343555e+01,\n",
       "       -2.48635468e+01, -1.77759756e+01, -9.84942287e+00, -1.06180062e+00,\n",
       "        8.60935974e+00,  1.91861585e+01,  3.06908147e+01,  4.31455475e+01,\n",
       "        5.65723779e+01,  7.09939065e+01,  8.64321684e+01,  1.02909383e+02,\n",
       "        1.20447512e+02,  1.39069272e+02,  1.58796642e+02,  1.79651840e+02,\n",
       "        2.01656765e+02,  2.24834260e+02,  2.49206240e+02,  2.74794924e+02,\n",
       "        3.01622142e+02,  3.29710873e+02,  3.59082966e+02,  3.89760639e+02,\n",
       "        4.21765646e+02,  4.55121117e+02,  4.89848824e+02,  5.25970987e+02,\n",
       "        5.63509282e+02,  6.02486994e+02,  6.42925818e+02,  6.84847974e+02,\n",
       "        7.28275053e+02,  7.73230508e+02,  8.19735952e+02,  8.67813603e+02,\n",
       "        9.17485681e+02,  9.68773665e+02,  1.02170123e+03,  1.07628988e+03,\n",
       "        1.13256183e+03,  1.19053847e+03,  1.25024366e+03,  1.31169880e+03,\n",
       "        1.37492613e+03,  1.43994692e+03,  1.50678523e+03,  1.57546238e+03,\n",
       "        1.64600059e+03,  1.71842102e+03,  1.79274797e+03,  1.86900262e+03,\n",
       "        1.94720721e+03,  2.02738279e+03,  2.10955386e+03,  2.19374152e+03,\n",
       "        2.27996799e+03,  2.36825421e+03,  2.45862492e+03,  2.55110109e+03,\n",
       "        2.64570494e+03,  2.74245730e+03,  2.84138314e+03,  2.94250332e+03])"
      ]
     },
     "execution_count": 22,
     "metadata": {},
     "output_type": "execute_result"
    }
   ],
   "source": [
    "# prediction value\n",
    "what_function3.predict(input_data[['x1','x2','x3']])"
   ]
  },
  {
   "cell_type": "code",
   "execution_count": 23,
   "metadata": {},
   "outputs": [
    {
     "data": {
      "text/plain": [
       "0.9791059838661033"
      ]
     },
     "execution_count": 23,
     "metadata": {},
     "output_type": "execute_result"
    }
   ],
   "source": [
    "# score : Return the coefficient of determination \"R^2\" of the prediction.\n",
    "what_function3.score(input_data[['x1','x2','x3']], output_data['total'])"
   ]
  },
  {
   "cell_type": "markdown",
   "metadata": {},
   "source": [
    "--------------------------------------------------------------------------------------------"
   ]
  },
  {
   "cell_type": "markdown",
   "metadata": {},
   "source": [
    "## 3. The best  $R^{2}$  score & Combinations of all combinations"
   ]
  },
  {
   "cell_type": "code",
   "execution_count": 24,
   "metadata": {},
   "outputs": [],
   "source": [
    "import itertools as itt"
   ]
  },
  {
   "cell_type": "code",
   "execution_count": 25,
   "metadata": {},
   "outputs": [],
   "source": [
    "x = list(itt.combinations(['x1', 'x2', 'x3', 'x4', 'x5'], 2))"
   ]
  },
  {
   "cell_type": "code",
   "execution_count": 26,
   "metadata": {},
   "outputs": [
    {
     "name": "stdout",
     "output_type": "stream",
     "text": [
      "['x1', 'x2']\n",
      "['x1', 'x3']\n",
      "['x1', 'x4']\n",
      "['x1', 'x5']\n",
      "['x2', 'x3']\n",
      "['x2', 'x4']\n",
      "['x2', 'x5']\n",
      "['x3', 'x4']\n",
      "['x3', 'x5']\n",
      "['x4', 'x5']\n"
     ]
    }
   ],
   "source": [
    "for i in x  :\n",
    "    print(list(i))"
   ]
  },
  {
   "cell_type": "code",
   "execution_count": 27,
   "metadata": {},
   "outputs": [
    {
     "name": "stdout",
     "output_type": "stream",
     "text": [
      "Best R^2 score & Combinations\n",
      "0.99658 [5, ('x1', 'x2', 'x3', 'x4', 'x5')]\n"
     ]
    }
   ],
   "source": [
    "R_2_list = []\n",
    "R_2_comb_list = []\n",
    "\n",
    "for i in range(1, 6) :\n",
    "    x_combinations = list(itt.combinations(['x1', 'x2', 'x3', 'x4', 'x5'], i))\n",
    "    for j in x_combinations :\n",
    "        temp = list(j)\n",
    "        what_function_test = LinearRegression().fit(input_data[ temp ], output_data['total'])\n",
    "        R_2_list.append(what_function_test.score(input_data[ temp ], output_data['total']))\n",
    "        R_2_comb_list.append([i, j])\n",
    "\n",
    "print(\"Best R^2 score & Combinations\")\n",
    "print(round(max(R_2_list), 5), R_2_comb_list[R_2_list.index( max(R_2_list) )])"
   ]
  }
 ],
 "metadata": {
  "kernelspec": {
   "display_name": "Python 3",
   "language": "python",
   "name": "python3"
  },
  "language_info": {
   "codemirror_mode": {
    "name": "ipython",
    "version": 3
   },
   "file_extension": ".py",
   "mimetype": "text/x-python",
   "name": "python",
   "nbconvert_exporter": "python",
   "pygments_lexer": "ipython3",
   "version": "3.7.4"
  }
 },
 "nbformat": 4,
 "nbformat_minor": 2
}
