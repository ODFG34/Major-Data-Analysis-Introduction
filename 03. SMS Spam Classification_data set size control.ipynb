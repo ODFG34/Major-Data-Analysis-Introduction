{
 "cells": [
  {
   "cell_type": "markdown",
   "metadata": {
    "collapsed": true
   },
   "source": [
    "## Loading the data "
   ]
  },
  {
   "cell_type": "code",
   "execution_count": 1,
   "metadata": {},
   "outputs": [],
   "source": [
    "%matplotlib inline\n",
    "import matplotlib.pyplot as plt\n",
    "import pandas as pd"
   ]
  },
  {
   "cell_type": "code",
   "execution_count": 2,
   "metadata": {
    "scrolled": false
   },
   "outputs": [
    {
     "name": "stdout",
     "output_type": "stream",
     "text": [
      "     label                                            message  label_num\n",
      "0      ham  Go until jurong point, crazy.. Available only ...          0\n",
      "1      ham                      Ok lar... Joking wif u oni...          0\n",
      "2     spam  Free entry in 2 a wkly comp to win FA Cup fina...          1\n",
      "3      ham  U dun say so early hor... U c already then say...          0\n",
      "4      ham  Nah I don't think he goes to usf, he lives aro...          0\n",
      "5     spam  FreeMsg Hey there darling it's been 3 week's n...          1\n",
      "6      ham  Even my brother is not like to speak with me. ...          0\n",
      "7      ham  As per your request 'Melle Melle (Oru Minnamin...          0\n",
      "8     spam  WINNER!! As a valued network customer you have...          1\n",
      "9     spam  Had your mobile 11 months or more? U R entitle...          1\n",
      "10     ham  I'm gonna be home soon and i don't want to tal...          0\n",
      "11    spam  SIX chances to win CASH! From 100 to 20,000 po...          1\n",
      "12    spam  URGENT! You have won a 1 week FREE membership ...          1\n",
      "13     ham  I've been searching for the right words to tha...          0\n",
      "14     ham                I HAVE A DATE ON SUNDAY WITH WILL!!          0\n",
      "15    spam  XXXMobileMovieClub: To use your credit, click ...          1\n",
      "16     ham                         Oh k...i'm watching here:)          0\n",
      "17     ham  Eh u remember how 2 spell his name... Yes i di...          0\n",
      "18     ham  Fine if thats the way u feel. Thats the way ...          0\n",
      "19    spam  England v Macedonia - dont miss the goals/team...          1\n",
      "20     ham          Is that seriously how you spell his name?          0\n",
      "21     ham    I‘m going to try for 2 months ha ha only joking          0\n",
      "22     ham  So ü pay first lar... Then when is da stock co...          0\n",
      "23     ham  Aft i finish my lunch then i go str down lor. ...          0\n",
      "24     ham  Ffffffffff. Alright no way I can meet up with ...          0\n",
      "25     ham  Just forced myself to eat a slice. I'm really ...          0\n",
      "26     ham                     Lol your always so convincing.          0\n",
      "27     ham  Did you catch the bus ? Are you frying an egg ...          0\n",
      "28     ham  I'm back &amp; we're packing the car now, I'll...          0\n",
      "29     ham  Ahhh. Work. I vaguely remember that! What does...          0\n",
      "...    ...                                                ...        ...\n",
      "5542   ham           Armand says get your ass over to epsilon          0\n",
      "5543   ham             U still havent got urself a jacket ah?          0\n",
      "5544   ham  I'm taking derek &amp; taylor to walmart, if I...          0\n",
      "5545   ham      Hi its in durban are you still on this number          0\n",
      "5546   ham         Ic. There are a lotta childporn cars then.          0\n",
      "5547  spam  Had your contract mobile 11 Mnths? Latest Moto...          1\n",
      "5548   ham                 No, I was trying it all weekend ;V          0\n",
      "5549   ham  You know, wot people wear. T shirts, jumpers, ...          0\n",
      "5550   ham        Cool, what time you think you can get here?          0\n",
      "5551   ham  Wen did you get so spiritual and deep. That's ...          0\n",
      "5552   ham  Have a safe trip to Nigeria. Wish you happines...          0\n",
      "5553   ham                        Hahaha..use your brain dear          0\n",
      "5554   ham  Well keep in mind I've only got enough gas for...          0\n",
      "5555   ham  Yeh. Indians was nice. Tho it did kane me off ...          0\n",
      "5556   ham  Yes i have. So that's why u texted. Pshew...mi...          0\n",
      "5557   ham  No. I meant the calculation is the same. That ...          0\n",
      "5558   ham                             Sorry, I'll call later          0\n",
      "5559   ham  if you aren't here in the next  &lt;#&gt;  hou...          0\n",
      "5560   ham                  Anything lor. Juz both of us lor.          0\n",
      "5561   ham  Get me out of this dump heap. My mom decided t...          0\n",
      "5562   ham  Ok lor... Sony ericsson salesman... I ask shuh...          0\n",
      "5563   ham                                Ard 6 like dat lor.          0\n",
      "5564   ham  Why don't you wait 'til at least wednesday to ...          0\n",
      "5565   ham                                       Huh y lei...          0\n",
      "5566  spam  REMINDER FROM O2: To get 2.50 pounds free call...          1\n",
      "5567  spam  This is the 2nd time we have tried 2 contact u...          1\n",
      "5568   ham               Will ü b going to esplanade fr home?          0\n",
      "5569   ham  Pity, * was in mood for that. So...any other s...          0\n",
      "5570   ham  The guy did some bitching but I acted like i'd...          0\n",
      "5571   ham                         Rofl. Its true to its name          0\n",
      "\n",
      "[5572 rows x 3 columns]\n"
     ]
    }
   ],
   "source": [
    "messages = pd.read_csv('SMSSpamCollection.csv', sep='\\t', names=[\"label\", \"message\"])\n",
    "messages['label_num'] = messages.label.map({'ham':0, 'spam':1}) #ham과 spam 구분\n",
    "print(messages)"
   ]
  },
  {
   "cell_type": "markdown",
   "metadata": {},
   "source": [
    "## 1. Use the command below, and generate test data by controlling the test_size value. Set the test_size value with 0.7, 0.5, 0.25. Using the traing data, traine the model and measure the f_1 score with the test data for each case. "
   ]
  },
  {
   "cell_type": "code",
   "execution_count": 3,
   "metadata": {},
   "outputs": [
    {
     "name": "stderr",
     "output_type": "stream",
     "text": [
      "C:\\ProgramData\\Anaconda2\\lib\\site-packages\\sklearn\\cross_validation.py:41: DeprecationWarning: This module was deprecated in version 0.18 in favor of the model_selection module into which all the refactored classes and functions are moved. Also note that the interface of the new CV iterators are different from that of this module. This module will be removed in 0.20.\n",
      "  \"This module will be removed in 0.20.\", DeprecationWarning)\n"
     ]
    }
   ],
   "source": [
    "size = [0.75, 0.5, 0.25] #test_size를 0.7인 경우, 0.5인 경우, 0.25인 경우 한 번에 적용하기에 위해 만든 리스트.\n",
    "\n",
    "#from sklearn.model_selection import train_test_split\n",
    "from sklearn.cross_validation import train_test_split"
   ]
  },
  {
   "cell_type": "markdown",
   "metadata": {},
   "source": [
    "use the command below to compute the f1_score. You can plot the results or just print it out. "
   ]
  },
  {
   "cell_type": "code",
   "execution_count": 4,
   "metadata": {
    "scrolled": false
   },
   "outputs": [
    {
     "name": "stdout",
     "output_type": "stream",
     "text": [
      "('f1 score:', '0.930581613508', ', test_size =', 0.75)\n",
      "('f1 score:', '0.942465753425', ', test_size =', 0.5)\n",
      "('f1 score:', '0.933333333333', ', test_size =', 0.25)\n"
     ]
    }
   ],
   "source": [
    "from sklearn.metrics import accuracy_score, precision_score, recall_score, f1_score\n",
    "from sklearn.naive_bayes import MultinomialNB\n",
    "from sklearn.feature_extraction.text import CountVectorizer\n",
    "\n",
    "count = CountVectorizer()  #count에 저장.\n",
    "\n",
    "documents = ['Hello, how are you!',\n",
    "             'Win money, win from home.',\n",
    "             'Call me now.',\n",
    "             'Hello, Call hello you tomorrow?',\n",
    "             'How are you?'] \n",
    "\n",
    "count.fit(documents)\n",
    "our_classifier = MultinomialNB()\n",
    "\n",
    "for i in size: # 반복문으로 한 번에 처리.\n",
    "    x_train, x_test, y_train, y_test = train_test_split(messages['message'],\n",
    "                                                        messages['label_num'],\n",
    "                                                        test_size = i,\n",
    "                                                        random_state=123)\n",
    "    train = count.fit_transform(x_train) \n",
    "    test = count.transform(x_test)\n",
    "\n",
    "    our_classifier.fit(train, y_train)\n",
    "    predictions = our_classifier.predict(test)\n",
    "    print ('f1 score:', format(f1_score(y_test,predictions)), ', test_size =', i)"
   ]
  },
  {
   "cell_type": "markdown",
   "metadata": {},
   "source": [
    "## 2. For the case when the test_size is 0.25, find the spam messages that has been predicted as ham, and find the ham messages that has been predicted as spam. "
   ]
  },
  {
   "cell_type": "code",
   "execution_count": 5,
   "metadata": {},
   "outputs": [
    {
     "data": {
      "text/plain": [
       "0"
      ]
     },
     "execution_count": 5,
     "metadata": {},
     "output_type": "execute_result"
    }
   ],
   "source": [
    "len(x_test[y_test != predictions])/len(x_test)"
   ]
  },
  {
   "cell_type": "code",
   "execution_count": 6,
   "metadata": {
    "scrolled": true
   },
   "outputs": [
    {
     "name": "stdout",
     "output_type": "stream",
     "text": [
      "inaccuracy score: 0.0179468772434\n"
     ]
    }
   ],
   "source": [
    "print(('inaccuracy score: ') + format(1 - accuracy_score(y_test,predictions)))"
   ]
  },
  {
   "cell_type": "code",
   "execution_count": 7,
   "metadata": {
    "scrolled": false
   },
   "outputs": [
    {
     "name": "stdout",
     "output_type": "stream",
     "text": [
      "ham을 spam이라고 한 경우\n",
      "(1644                  U WILL SWITCH YOUR FONE ON DAMMIT!!\n",
      "1260    We have sent JD for Customer Service cum Accou...\n",
      "45                       No calls..messages..missed calls\n",
      "4557                              Gettin rdy to ship comp\n",
      "574                                Waiting for your call.\n",
      "1988                     No calls..messages..missed calls\n",
      "5046    We have sent JD for Customer Service cum Accou...\n",
      "1290    Hey...Great deal...Farm tour 9am to 5pm $95/pa...\n",
      "Name: message, dtype: object, '\\n')\n",
      "spam을 ham이라고 한 경우\n",
      "4213    Missed call alert. These numbers called but le...\n",
      "2965    Do you ever notice that when you're driving, a...\n",
      "3864    Oh my god! I've found your number again! I'm s...\n",
      "2663    Hello darling how are you today? I would love ...\n",
      "5370    dating:i have had two of these. Only started a...\n",
      "1500    SMS. ac JSco: Energy is high, but u may not kn...\n",
      "1458    CLAIRE here am havin borin time & am now alone...\n",
      "5449    Latest News! Police station toilet stolen, cop...\n",
      "4016    You will be receiving this week's Triple Echo ...\n",
      "1638    0A$NETWORKS allow companies to bill for SMS, s...\n",
      "3530    Xmas & New Years Eve tickets are now on sale f...\n",
      "4298    thesmszone.com lets you send free anonymous an...\n",
      "2821    INTERFLORA - It's not too late to order Inter...\n",
      "3460    Not heard from U4 a while. Call me now am here...\n",
      "1469    Hi its LUCY Hubby at meetins all day Fri & I w...\n",
      "4144    In The Simpsons Movie released in July 2007 na...\n",
      "1430    For sale - arsenal dartboard. Good condition b...\n",
      "Name: message, dtype: object\n"
     ]
    }
   ],
   "source": [
    "print('ham을 spam이라고 한 경우')\n",
    "print(x_test[y_test < predictions], '\\n')\n",
    "\n",
    "print('spam을 ham이라고 한 경우')\n",
    "print(x_test[y_test > predictions])"
   ]
  },
  {
   "cell_type": "markdown",
   "metadata": {},
   "source": [
    "## 3. For the case when the test_size is 0.25, can you improve the performance? You can show your results or you can just write down your idea below. "
   ]
  },
  {
   "cell_type": "markdown",
   "metadata": {},
   "source": [
    "## Use Cross-Validation!    \n",
    "## Create models through train and validation the hyperparameters of models through verification to use good models."
   ]
  }
 ],
 "metadata": {
  "anaconda-cloud": {},
  "kernelspec": {
   "display_name": "Python 3",
   "language": "python",
   "name": "python3"
  },
  "language_info": {
   "codemirror_mode": {
    "name": "ipython",
    "version": 3
   },
   "file_extension": ".py",
   "mimetype": "text/x-python",
   "name": "python",
   "nbconvert_exporter": "python",
   "pygments_lexer": "ipython3",
   "version": "3.7.6"
  }
 },
 "nbformat": 4,
 "nbformat_minor": 1
}
